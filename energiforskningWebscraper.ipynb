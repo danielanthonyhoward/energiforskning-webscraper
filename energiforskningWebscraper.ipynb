{
 "cells": [
  {
   "cell_type": "code",
   "execution_count": 1,
   "id": "ec725e1b",
   "metadata": {},
   "outputs": [],
   "source": [
    "import time\n",
    "import pandas as pd\n",
    "from tqdm.notebook import tqdm\n",
    "from selenium import webdriver\n",
    "from selenium.webdriver.chrome.options import Options\n",
    "from selenium.webdriver.common.by import By\n",
    "from selenium.webdriver.support.select import Select\n",
    "from selenium.common.exceptions import NoSuchElementException"
   ]
  },
  {
   "cell_type": "code",
   "execution_count": 3,
   "id": "f4a87dd1",
   "metadata": {},
   "outputs": [],
   "source": [
    "#Find driver at: https://sites.google.com/chromium.org/driver/downloads\n",
    "driver = webdriver.Chrome()\n",
    "options = Options()\n",
    "options.headless = True\n",
    "options.add_argument(\"--window-size=1920,1200\")"
   ]
  },
  {
   "cell_type": "code",
   "execution_count": null,
   "id": "252bc62d",
   "metadata": {},
   "outputs": [],
   "source": [
    "driver = webdriver.Chrome(options=options)"
   ]
  },
  {
   "cell_type": "code",
   "execution_count": null,
   "id": "2cccdfc9",
   "metadata": {},
   "outputs": [],
   "source": [
    "energyEfficiencyBaseURL = 'https://energiforskning.dk/projekter?search_api_fulltext=&f%5B0%5D=t%3A95&page={}'\n",
    "smartGridsBaseURL = 'https://energiforskning.dk/projekter?search_api_fulltext=&f%5B0%5D=t%3A98&page={}'\n",
    "otherBaseURL = 'https://energiforskning.dk/projekter?search_api_fulltext=&f%5B0%5D=t%3A99&page={}'"
   ]
  },
  {
   "cell_type": "code",
   "execution_count": null,
   "id": "0e5bcb4b",
   "metadata": {},
   "outputs": [],
   "source": [
    "def energiforskningWebscraper(baseUrl):\n",
    "    \n",
    "    projectTitle = []\n",
    "    projectURL = []\n",
    "    \n",
    "    \n",
    "    page = 0\n",
    "    \n",
    "    def elementExists(driver, locator):\n",
    "        try:\n",
    "            driver.find_element_by_css_selector(locator)\n",
    "            return True\n",
    "        except NoSuchElementException:\n",
    "            return False\n",
    "    \n",
    "    while True:\n",
    "        \n",
    "        driver.get(baseUrl.format(page))\n",
    "        \n",
    "        if elementExists(driver, 'body > div > main > div > div > article > div > div.alpha > div.field.field-viewsreference > div > div > div.view-content'):\n",
    "            \n",
    "            _projects = driver.find_element(By.CSS_SELECTOR, 'body > div > main > div > div > article > div > div.alpha > div.field.field-viewsreference > div > div > div.view-content')\n",
    "            _projects = _projects.find_elements(By.CLASS_NAME, 'views-row')\n",
    "            \n",
    "            for _project in _projects:\n",
    "                try:\n",
    "\n",
    "                    _title = _project.find_element(By.CSS_SELECTOR, 'body > div > main > div > div > article > div > div.alpha > div.field.field-viewsreference > div > div > div.view-content > div > div > div > div.field.node-title > h2 > a').text\n",
    "                    _url = _project.find_element(By.CSS_SELECTOR, 'body > div > main > div > div > article > div > div.alpha > div.field.field-viewsreference > div > div > div.view-content > div > div > div > div.field.node-title > h2 > a').get_attribute('href')\n",
    "\n",
    "                    projectTitle.append(_title)\n",
    "                    projectURL.append(_url)\n",
    "\n",
    "                except Exception as e:\n",
    "                    \n",
    "                    print(e)\n",
    "                    print(page)\n",
    "                    print(_project.text)\n",
    "                    \n",
    "        else:\n",
    "            break\n",
    "\n",
    "        page = page + 1\n",
    "    \n",
    "    df = pd.DataFrame({'Project Title': projectTitle, 'URL' : projectURL})\n",
    "    \n",
    "    return df"
   ]
  },
  {
   "cell_type": "code",
   "execution_count": null,
   "id": "668cf0ad",
   "metadata": {},
   "outputs": [],
   "source": [
    "smartGridProjects = energiforskningWebscraper(smartGridsBaseURL)\n",
    "energyEfficiencyProjects = energiforskningWebscraper(energyEfficiencyBaseURL)\n",
    "otherProjects = energiforskningWebscraper(otherBaseURL)"
   ]
  },
  {
   "cell_type": "code",
   "execution_count": null,
   "id": "3c1283e9",
   "metadata": {},
   "outputs": [],
   "source": [
    "smartGridProjects['Category'] = 'Smart Grid & Systems'\n",
    "energyEfficiencyProjects['Category'] = 'Energy Efficiency'\n",
    "otherProjects['Category'] = 'Other'"
   ]
  },
  {
   "cell_type": "code",
   "execution_count": null,
   "id": "ebdca655",
   "metadata": {},
   "outputs": [],
   "source": [
    "energiforskningProjects = pd.concat([smartGridProjects,energyEfficiencyProjects,otherProjects], ignore_index=True)"
   ]
  },
  {
   "cell_type": "code",
   "execution_count": null,
   "id": "c8b8a04b",
   "metadata": {},
   "outputs": [],
   "source": [
    "def elementExists(driver, locator):\n",
    "    try:\n",
    "        driver.find_element_by_css_selector(locator)\n",
    "        return True\n",
    "    except NoSuchElementException:\n",
    "        return False"
   ]
  },
  {
   "cell_type": "code",
   "execution_count": null,
   "id": "9b70db89",
   "metadata": {},
   "outputs": [],
   "source": [
    "projectDescriptions = []\n",
    "projectKeyFigures = []\n",
    "projectPrograms = []\n",
    "projectMainResponsible = []\n",
    "projectParticipants = []\n",
    "\n",
    "for url in tqdm(energiforskningProjects['URL'].to_list()):\n",
    "    \n",
    "    driver.get(url)\n",
    "\n",
    "    _description = 'n/a'\n",
    "    _keyFigures = 'n/a'\n",
    "    _program = 'n/a'\n",
    "    _mainResponsible = 'n/a'\n",
    "    _participants = 'n/a'\n",
    "\n",
    "    if elementExists(driver, 'body > div > main > div > div > article > div.inner > div.alpha > div.field.field-content'):\n",
    "        _description = driver.find_element(By.CSS_SELECTOR, 'body > div > main > div > div > article > div.inner > div.alpha > div.field.field-content').text\n",
    "\n",
    "    if elementExists(driver, 'body > div > main > div > div > article > div.inner > div.alpha > div.details > div.numbers_wrapper > div'):\n",
    "        _keyFigures = driver.find_element(By.CSS_SELECTOR, 'body > div > main > div > div > article > div.inner > div.alpha > div.details > div.numbers_wrapper > div').text\n",
    "\n",
    "    if elementExists(driver, 'body > div > main > div > div > article > div.inner > div.alpha > div.details > div.category_wrapper > div.field.field-program-ref.field--label-inline'):\n",
    "        _program = driver.find_element(By.CSS_SELECTOR, 'body > div > main > div > div > article > div.inner > div.alpha > div.details > div.category_wrapper > div.field.field-program-ref.field--label-inline').text\n",
    "\n",
    "    if elementExists(driver, 'body > div > main > div > div > article > div.inner > div.alpha > div.details > div.participants_wrapper > div.field.octo-main-resposible'):\n",
    "        _mainResponsible = driver.find_element(By.CSS_SELECTOR, 'body > div > main > div > div > article > div.inner > div.alpha > div.details > div.participants_wrapper > div.field.octo-main-resposible').text\n",
    "\n",
    "    if elementExists(driver, 'body > div > main > div > div > article > div.inner > div.alpha > div.details > div.participants_wrapper > div.field.field-partners > table > tbody'):\n",
    "        _participants = driver.find_element(By.CSS_SELECTOR, 'body > div > main > div > div > article > div.inner > div.alpha > div.details > div.participants_wrapper > div.field.field-partners > table > tbody').text\n",
    "\n",
    "    projectDescriptions.append(_description)\n",
    "    projectKeyFigures.append(_keyFigures)\n",
    "    projectPrograms.append(_program)\n",
    "    projectMainResponsible.append(_mainResponsible)\n",
    "    projectParticipants.append(_participants)"
   ]
  }
 ],
 "metadata": {
  "hide_input": false,
  "kernelspec": {
   "display_name": "Python 3 (ipykernel)",
   "language": "python",
   "name": "python3"
  },
  "language_info": {
   "codemirror_mode": {
    "name": "ipython",
    "version": 3
   },
   "file_extension": ".py",
   "mimetype": "text/x-python",
   "name": "python",
   "nbconvert_exporter": "python",
   "pygments_lexer": "ipython3",
   "version": "3.8.8"
  },
  "toc": {
   "base_numbering": 1,
   "nav_menu": {},
   "number_sections": true,
   "sideBar": true,
   "skip_h1_title": false,
   "title_cell": "Table of Contents",
   "title_sidebar": "Contents",
   "toc_cell": false,
   "toc_position": {},
   "toc_section_display": true,
   "toc_window_display": false
  }
 },
 "nbformat": 4,
 "nbformat_minor": 5
}
